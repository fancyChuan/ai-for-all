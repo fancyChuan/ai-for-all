{
 "cells": [
  {
   "cell_type": "code",
   "execution_count": 1,
   "metadata": {
    "collapsed": true
   },
   "outputs": [],
   "source": [
    "import os\n",
    "import openai\n"
   ]
  },
  {
   "cell_type": "code",
   "execution_count": 2,
   "outputs": [],
   "source": [
    "openai.api_key=os.getenv(\"OPENAI_API_KEY\")\n",
    "\n",
    "# openai.Model.list()"
   ],
   "metadata": {
    "collapsed": false,
    "pycharm": {
     "name": "#%%\n"
    }
   }
  },
  {
   "cell_type": "code",
   "execution_count": 4,
   "outputs": [
    {
     "name": "stdout",
     "output_type": "stream",
     "text": [
      "{\n",
      "  \"choices\": [\n",
      "    {\n",
      "      \"finish_reason\": \"stop\",\n",
      "      \"index\": 0,\n",
      "      \"message\": {\n",
      "        \"content\": \"\\n\\nAhoy, mateys! Let me tell ye 'bout the fabulous treasure trove that is the ChatGPT API. Arrr, with this here API, ye can access the vast and mighty knowledge of the ChatGPT, the greatest AI chatbot on the seven seas.\\n\\nWith the ChatGPT API, ye can ask questions about nearly any topic, from history to science to the best way to cook a crab. Ye can even use it to create yer own AI assistants, able to understand and respond to yer every whim and command.\\n\\nAnd it's all done in the way of a pirate, savvy? With this API, ye'll be able to speak to ChatGPT like a true buccaneer, using all the salty language and colorful expressions that make the pirate's life so rich and rewarding.\\n\\nSo weigh anchor and hoist the jolly roger, me hearties! With the ChatGPT API in yer hands, thar be no question, no challenge, and no adventure that ye can't conquer. Set sail and claim ye booty today!\",\n",
      "        \"role\": \"assistant\"\n",
      "      }\n",
      "    }\n",
      "  ],\n",
      "  \"created\": 1678509272,\n",
      "  \"id\": \"chatcmpl-6slE8qtzL201wx0ECdZ5Jg0uw9gtg\",\n",
      "  \"model\": \"gpt-3.5-turbo-0301\",\n",
      "  \"object\": \"chat.completion\",\n",
      "  \"usage\": {\n",
      "    \"completion_tokens\": 219,\n",
      "    \"prompt_tokens\": 23,\n",
      "    \"total_tokens\": 242\n",
      "  }\n",
      "}\n"
     ]
    }
   ],
   "source": [
    "completion = openai.ChatCompletion.create(\n",
    "  model=\"gpt-3.5-turbo\",\n",
    "  messages=[{\"role\": \"user\", \"content\": \"Tell the world about the ChatGPT API in the style of a pirate.\"}]\n",
    ")\n",
    "\n",
    "print(completion)"
   ],
   "metadata": {
    "collapsed": false,
    "pycharm": {
     "name": "#%%\n"
    }
   }
  },
  {
   "cell_type": "code",
   "execution_count": 5,
   "outputs": [
    {
     "name": "stdout",
     "output_type": "stream",
     "text": [
      "\n",
      "\n",
      "Ahoy, mateys! Let me tell ye 'bout the fabulous treasure trove that is the ChatGPT API. Arrr, with this here API, ye can access the vast and mighty knowledge of the ChatGPT, the greatest AI chatbot on the seven seas.\n",
      "\n",
      "With the ChatGPT API, ye can ask questions about nearly any topic, from history to science to the best way to cook a crab. Ye can even use it to create yer own AI assistants, able to understand and respond to yer every whim and command.\n",
      "\n",
      "And it's all done in the way of a pirate, savvy? With this API, ye'll be able to speak to ChatGPT like a true buccaneer, using all the salty language and colorful expressions that make the pirate's life so rich and rewarding.\n",
      "\n",
      "So weigh anchor and hoist the jolly roger, me hearties! With the ChatGPT API in yer hands, thar be no question, no challenge, and no adventure that ye can't conquer. Set sail and claim ye booty today!\n"
     ]
    }
   ],
   "source": [
    "print(completion['choices'][0]['message']['content'])"
   ],
   "metadata": {
    "collapsed": false,
    "pycharm": {
     "name": "#%%\n"
    }
   }
  },
  {
   "cell_type": "code",
   "execution_count": null,
   "outputs": [],
   "source": [],
   "metadata": {
    "collapsed": false,
    "pycharm": {
     "name": "#%%\n"
    }
   }
  }
 ],
 "metadata": {
  "kernelspec": {
   "display_name": "Python 3",
   "language": "python",
   "name": "python3"
  },
  "language_info": {
   "codemirror_mode": {
    "name": "ipython",
    "version": 2
   },
   "file_extension": ".py",
   "mimetype": "text/x-python",
   "name": "python",
   "nbconvert_exporter": "python",
   "pygments_lexer": "ipython2",
   "version": "2.7.6"
  }
 },
 "nbformat": 4,
 "nbformat_minor": 0
}